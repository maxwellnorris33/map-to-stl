{
 "cells": [
  {
   "cell_type": "markdown",
   "metadata": {},
   "source": []
  },
  {
   "cell_type": "code",
   "execution_count": 4,
   "metadata": {},
   "outputs": [],
   "source": [
    "#importing important libraries\n",
    "import numpy as np\n",
    "import matplotlib as mp\n",
    "from PIL import Image\n"
   ]
  },
  {
   "cell_type": "markdown",
   "metadata": {},
   "source": [
    "# Step 1: Improting Image"
   ]
  },
  {
   "cell_type": "code",
   "execution_count": 6,
   "metadata": {},
   "outputs": [],
   "source": [
    "#getting file path\n",
    "path = input(\"please enter the file path of the image or n if image is in current directory with name 'image.png'\")\n",
    "\n",
    "#opening image\n",
    "if path == \"n\":\n",
    "    #opening image\n",
    "    img = Image.open('image.png').convert('L')\n",
    "    #saving for future reference as needed\n",
    "    img.save('greyscale.png')\n",
    "else:\n",
    "    #opening image\n",
    "    img = Image.open(path).convert('L')\n",
    "    #saving for future reference as needed\n",
    "    img.save('greyscale.png')\n",
    "\n"
   ]
  },
  {
   "cell_type": "markdown",
   "metadata": {},
   "source": [
    "# Step 2: Creating data array"
   ]
  },
  {
   "cell_type": "code",
   "execution_count": 8,
   "metadata": {},
   "outputs": [
    {
     "name": "stdout",
     "output_type": "stream",
     "text": [
      "[[ 71  71  71 ...  65  62 104]\n",
      " [ 37  37  37 ...  31  28  70]\n",
      " [ 45  45  45 ...  39  36  78]\n",
      " ...\n",
      " [ 51  51  51 ...  41  36  77]\n",
      " [ 38  38  37 ...  29  24  65]\n",
      " [ 99  99  98 ...  91  86 127]]\n"
     ]
    }
   ],
   "source": [
    "#using numpy to make 2D array of all pixel values\n",
    "imgArray = np.asarray(img)\n",
    "\n",
    "#printing for confirmation of proper form\n",
    "print(imgArray)"
   ]
  },
  {
   "cell_type": "markdown",
   "metadata": {},
   "source": [
    "# Step 3: Defining Scale"
   ]
  },
  {
   "cell_type": "code",
   "execution_count": 3,
   "metadata": {},
   "outputs": [
    {
     "name": "stdout",
     "output_type": "stream",
     "text": [
      "light = up: y \n",
      "step value: 12.0\n"
     ]
    }
   ],
   "source": [
    "#defining variables that will be updated later with random starting values\n",
    "direction = 'test'\n",
    "stepVal = 0\n",
    "\n",
    "#updating values to users prefered vertical scale and correct orientation\n",
    "running = True\n",
    "while running:\n",
    "\n",
    "    #temporary variables\n",
    "    d = input(\"Does Light colour represent higher elevation? (y/n):\")\n",
    "    s = input(\"Enter a float step value for height in mm:\")\n",
    "\n",
    "    try:\n",
    "        #updating variables\n",
    "        stepVal = float(s)\n",
    "        if d.lower() == 'y' or d.lower() == 'n':\n",
    "            direction = d.lower()\n",
    "            running = False\n",
    "        else:\n",
    "            print(\"Incorrect entry for light = greater elevation, please only enter 'y' or 'n'.\")\n",
    "    except:\n",
    "        print(\"Incorrect entry for step value. Please enter a number\")\n",
    "\n",
    "#confirmation\n",
    "print(f\"light = up: {direction} \\nstep value: {stepVal}\")\n",
    "\n",
    "#TODO sample scale graph"
   ]
  },
  {
   "cell_type": "code",
   "execution_count": null,
   "metadata": {},
   "outputs": [],
   "source": [
    "#defining length and width scale\n",
    "\n",
    "#TODO"
   ]
  },
  {
   "cell_type": "markdown",
   "metadata": {},
   "source": [
    "# Step 4: Creating STL and visualizing output"
   ]
  },
  {
   "cell_type": "code",
   "execution_count": null,
   "metadata": {},
   "outputs": [],
   "source": [
    "#TODO"
   ]
  }
 ],
 "metadata": {
  "kernelspec": {
   "display_name": "ensf411",
   "language": "python",
   "name": "python3"
  },
  "language_info": {
   "codemirror_mode": {
    "name": "ipython",
    "version": 3
   },
   "file_extension": ".py",
   "mimetype": "text/x-python",
   "name": "python",
   "nbconvert_exporter": "python",
   "pygments_lexer": "ipython3",
   "version": "3.9.7"
  },
  "orig_nbformat": 4
 },
 "nbformat": 4,
 "nbformat_minor": 2
}
